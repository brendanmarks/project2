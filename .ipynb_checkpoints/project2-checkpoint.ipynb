{
 "cells": [
  {
   "cell_type": "code",
   "execution_count": 86,
   "metadata": {},
   "outputs": [],
   "source": [
    "import pandas as pd\n",
    "import numpy as np\n",
    "from sklearn.preprocessing import LabelEncoder\n",
    "from sklearn import datasets\n",
    "import os"
   ]
  },
  {
   "cell_type": "markdown",
   "metadata": {},
   "source": [
    "# Load Datasets"
   ]
  },
  {
   "cell_type": "code",
   "execution_count": 87,
   "metadata": {},
   "outputs": [],
   "source": [
    "d = datasets.load_digits(as_frame=True)\n",
    "digits = d['data']\n",
    "digits_target = d['target']\n",
    "\n",
    "c = datasets.fetch_openml(name='credit-g', as_frame=True)\n",
    "credit = c['data']\n",
    "credit_target = c['target']\n"
   ]
  },
  {
   "cell_type": "markdown",
   "metadata": {},
   "source": [
    "## Preprocess Digits"
   ]
  },
  {
   "cell_type": "code",
   "execution_count": 88,
   "metadata": {},
   "outputs": [
    {
     "name": "stdout",
     "output_type": "stream",
     "text": [
      "      pixel_0_0  pixel_0_1  pixel_0_2  pixel_0_3  pixel_0_4  pixel_0_5  \\\n",
      "0           0.0        0.0        5.0       13.0        9.0        1.0   \n",
      "1           0.0        0.0        0.0       12.0       13.0        5.0   \n",
      "2           0.0        0.0        0.0        4.0       15.0       12.0   \n",
      "3           0.0        0.0        7.0       15.0       13.0        1.0   \n",
      "4           0.0        0.0        0.0        1.0       11.0        0.0   \n",
      "...         ...        ...        ...        ...        ...        ...   \n",
      "1792        0.0        0.0        4.0       10.0       13.0        6.0   \n",
      "1793        0.0        0.0        6.0       16.0       13.0       11.0   \n",
      "1794        0.0        0.0        1.0       11.0       15.0        1.0   \n",
      "1795        0.0        0.0        2.0       10.0        7.0        0.0   \n",
      "1796        0.0        0.0       10.0       14.0        8.0        1.0   \n",
      "\n",
      "      pixel_0_6  pixel_0_7  pixel_1_0  pixel_1_1  ...  pixel_6_6  pixel_6_7  \\\n",
      "0           0.0        0.0        0.0        0.0  ...        0.0        0.0   \n",
      "1           0.0        0.0        0.0        0.0  ...        0.0        0.0   \n",
      "2           0.0        0.0        0.0        0.0  ...        5.0        0.0   \n",
      "3           0.0        0.0        0.0        8.0  ...        9.0        0.0   \n",
      "4           0.0        0.0        0.0        0.0  ...        0.0        0.0   \n",
      "...         ...        ...        ...        ...  ...        ...        ...   \n",
      "1792        0.0        0.0        0.0        1.0  ...        4.0        0.0   \n",
      "1793        1.0        0.0        0.0        0.0  ...        1.0        0.0   \n",
      "1794        0.0        0.0        0.0        0.0  ...        0.0        0.0   \n",
      "1795        0.0        0.0        0.0        0.0  ...        2.0        0.0   \n",
      "1796        0.0        0.0        0.0        2.0  ...        8.0        0.0   \n",
      "\n",
      "      pixel_7_0  pixel_7_1  pixel_7_2  pixel_7_3  pixel_7_4  pixel_7_5  \\\n",
      "0           0.0        0.0        6.0       13.0       10.0        0.0   \n",
      "1           0.0        0.0        0.0       11.0       16.0       10.0   \n",
      "2           0.0        0.0        0.0        3.0       11.0       16.0   \n",
      "3           0.0        0.0        7.0       13.0       13.0        9.0   \n",
      "4           0.0        0.0        0.0        2.0       16.0        4.0   \n",
      "...         ...        ...        ...        ...        ...        ...   \n",
      "1792        0.0        0.0        2.0       14.0       15.0        9.0   \n",
      "1793        0.0        0.0        6.0       16.0       14.0        6.0   \n",
      "1794        0.0        0.0        2.0        9.0       13.0        6.0   \n",
      "1795        0.0        0.0        5.0       12.0       16.0       12.0   \n",
      "1796        0.0        1.0        8.0       12.0       14.0       12.0   \n",
      "\n",
      "      pixel_7_6  pixel_7_7  \n",
      "0           0.0        0.0  \n",
      "1           0.0        0.0  \n",
      "2           9.0        0.0  \n",
      "3           0.0        0.0  \n",
      "4           0.0        0.0  \n",
      "...         ...        ...  \n",
      "1792        0.0        0.0  \n",
      "1793        0.0        0.0  \n",
      "1794        0.0        0.0  \n",
      "1795        0.0        0.0  \n",
      "1796        1.0        0.0  \n",
      "\n",
      "[1797 rows x 64 columns]\n"
     ]
    }
   ],
   "source": [
    "#nothing to do ? \n",
    "print (digits)"
   ]
  },
  {
   "cell_type": "markdown",
   "metadata": {},
   "source": [
    "## Preprocess Credit"
   ]
  },
  {
   "cell_type": "code",
   "execution_count": 89,
   "metadata": {},
   "outputs": [
    {
     "name": "stdout",
     "output_type": "stream",
     "text": [
      "     duration              purpose  credit_amount  installment_commitment  \\\n",
      "0         6.0             radio/tv         1169.0                     4.0   \n",
      "1        48.0             radio/tv         5951.0                     2.0   \n",
      "2        12.0            education         2096.0                     2.0   \n",
      "3        42.0  furniture/equipment         7882.0                     2.0   \n",
      "4        24.0              new car         4870.0                     3.0   \n",
      "..        ...                  ...            ...                     ...   \n",
      "995      12.0  furniture/equipment         1736.0                     3.0   \n",
      "996      30.0             used car         3857.0                     4.0   \n",
      "997      12.0             radio/tv          804.0                     4.0   \n",
      "998      45.0             radio/tv         1845.0                     4.0   \n",
      "999      45.0             used car         4576.0                     3.0   \n",
      "\n",
      "     residence_since   age  existing_credits  num_dependents  checking_status  \\\n",
      "0                4.0  67.0               2.0             1.0                1   \n",
      "1                2.0  22.0               1.0             1.0                0   \n",
      "2                3.0  49.0               1.0             2.0                3   \n",
      "3                4.0  45.0               1.0             2.0                1   \n",
      "4                4.0  53.0               2.0             2.0                1   \n",
      "..               ...   ...               ...             ...              ...   \n",
      "995              4.0  31.0               1.0             1.0                3   \n",
      "996              4.0  40.0               1.0             1.0                1   \n",
      "997              4.0  38.0               1.0             1.0                3   \n",
      "998              4.0  23.0               1.0             1.0                1   \n",
      "999              4.0  27.0               1.0             1.0                0   \n",
      "\n",
      "     credit_history  savings_status  employment  personal_status  \\\n",
      "0                 1               4           3                3   \n",
      "1                 3               2           0                0   \n",
      "2                 1               2           1                3   \n",
      "3                 3               2           1                3   \n",
      "4                 2               2           0                3   \n",
      "..              ...             ...         ...              ...   \n",
      "995               3               2           1                0   \n",
      "996               3               2           0                1   \n",
      "997               3               2           3                3   \n",
      "998               3               2           0                3   \n",
      "999               1               0           4                3   \n",
      "\n",
      "     other_parties  property_magnitude  other_payment_plans  housing  job  \\\n",
      "0                2                   3                    1        1    1   \n",
      "1                2                   3                    1        1    1   \n",
      "2                2                   3                    1        1    3   \n",
      "3                1                   1                    1        0    1   \n",
      "4                2                   2                    1        0    1   \n",
      "..             ...                 ...                  ...      ...  ...   \n",
      "995              2                   3                    1        1    3   \n",
      "996              2                   1                    1        1    0   \n",
      "997              2                   0                    1        1    1   \n",
      "998              2                   2                    1        0    1   \n",
      "999              2                   0                    1        1    1   \n",
      "\n",
      "     own_telephone  foreign_worker  \n",
      "0                1               1  \n",
      "1                0               1  \n",
      "2                0               1  \n",
      "3                0               1  \n",
      "4                0               1  \n",
      "..             ...             ...  \n",
      "995              0               1  \n",
      "996              1               1  \n",
      "997              0               1  \n",
      "998              1               1  \n",
      "999              0               1  \n",
      "\n",
      "[1000 rows x 20 columns]\n"
     ]
    }
   ],
   "source": [
    "#everything good except cat to one hot\n",
    "credit_cat = ['checking_status', 'credit_history', 'savings_status', 'employment', 'personal_status', 'other_parties',\n",
    "             'property_magnitude', 'other_payment_plans', 'housing', 'job', 'own_telephone', 'foreign_worker']\n",
    "\n",
    "def extract_columns (df, cols):\n",
    "    return df.loc[:, cols]\n",
    "\n",
    "def get_onehot (df, cat_feat):\n",
    "    categories = extract_columns(df, cat_feat)\n",
    "    le = LabelEncoder()\n",
    "    return categories.apply(lambda col: le.fit_transform(col))\n",
    "\n",
    "one_hot_cols = get_onehot(credit, credit_cat)\n",
    "credit_no_cat = credit.drop(credit_cat, axis = 1) \n",
    "credit = pd.concat([credit_no_cat, one_hot_cols], axis=1)\n",
    "print (credit)\n"
   ]
  },
  {
   "cell_type": "code",
   "execution_count": null,
   "metadata": {},
   "outputs": [],
   "source": []
  }
 ],
 "metadata": {
  "kernelspec": {
   "display_name": "Python 3",
   "language": "python",
   "name": "python3"
  },
  "language_info": {
   "codemirror_mode": {
    "name": "ipython",
    "version": 3
   },
   "file_extension": ".py",
   "mimetype": "text/x-python",
   "name": "python",
   "nbconvert_exporter": "python",
   "pygments_lexer": "ipython3",
   "version": "3.8.3"
  }
 },
 "nbformat": 4,
 "nbformat_minor": 4
}
